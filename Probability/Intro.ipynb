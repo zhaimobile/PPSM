{
 "cells": [
  {
   "cell_type": "markdown",
   "metadata": {
    "collapsed": true
   },
   "source": [
    "# Basic Ideas"
   ]
  },
  {
   "cell_type": "markdown",
   "metadata": {},
   "source": [
    "## Random Variables\n",
    "*Definition: Random variable is a function that assigns a number to each outcomes of given statics space.*\n",
    "\n",
    "Create a random variable, that X: (a,b)->(a+b) for rolling throw a dice twice"
   ]
  },
  {
   "cell_type": "code",
   "execution_count": 25,
   "metadata": {
    "collapsed": true
   },
   "outputs": [
    {
     "data": {
      "text/plain": [
       "defaultdict(list,\n            {2: [(1, 1)],\n             3: [(1, 2), (2, 1)],\n             4: [(1, 3), (2, 2), (3, 1)],\n             5: [(1, 4), (2, 3), (3, 2), (4, 1)],\n             6: [(1, 5), (2, 4), (3, 3), (4, 2), (5, 1)],\n             7: [(1, 6), (2, 5), (3, 4), (4, 3), (5, 2), (6, 1)],\n             8: [(2, 6), (3, 5), (4, 4), (5, 3), (6, 2)],\n             9: [(3, 6), (4, 5), (5, 4), (6, 3)],\n             10: [(4, 6), (5, 5), (6, 4)],\n             11: [(5, 6), (6, 5)],\n             12: [(6, 6)]})"
      ]
     },
     "execution_count": 25,
     "metadata": {},
     "output_type": "execute_result"
    }
   ],
   "source": [
    "from collections import defaultdict\n",
    "\n",
    "d = { (i,j):i+j for i in range(1,7) for j in range (1,7)}# dice 1...6\n",
    "\n",
    "dinv = defaultdict(list)\n",
    "for i,j in d.items():\n",
    "    dinv[j].append(i)\n",
    "\n",
    "dinv"
   ]
  },
  {
   "cell_type": "code",
   "execution_count": 26,
   "metadata": {},
   "outputs": [
    {
     "data": {
      "text/plain": [
       "{2: 0.027777777777777776,\n 3: 0.05555555555555555,\n 4: 0.08333333333333333,\n 5: 0.1111111111111111,\n 6: 0.1388888888888889,\n 7: 0.16666666666666666,\n 8: 0.1388888888888889,\n 9: 0.1111111111111111,\n 10: 0.08333333333333333,\n 11: 0.05555555555555555,\n 12: 0.027777777777777776}"
      ]
     },
     "execution_count": 26,
     "metadata": {},
     "output_type": "execute_result"
    }
   ],
   "source": [
    "X = {i:len(j)/36. for i,j in dinv.items()}\n",
    "X"
   ]
  },
  {
   "cell_type": "code",
   "execution_count": null,
   "metadata": {},
   "outputs": [],
   "source": []
  }
 ],
 "metadata": {
  "kernelspec": {
   "display_name": "Python 2",
   "language": "python",
   "name": "python2"
  },
  "language_info": {
   "codemirror_mode": {
    "name": "ipython",
    "version": 2
   },
   "file_extension": ".py",
   "mimetype": "text/x-python",
   "name": "python",
   "nbconvert_exporter": "python",
   "pygments_lexer": "ipython2",
   "version": "2.7.6"
  }
 },
 "nbformat": 4,
 "nbformat_minor": 0
}
